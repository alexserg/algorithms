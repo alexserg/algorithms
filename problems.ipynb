{
 "cells": [
  {
   "cell_type": "code",
   "execution_count": 8,
   "metadata": {
    "collapsed": true
   },
   "outputs": [],
   "source": [
    "import numpy as np"
   ]
  },
  {
   "cell_type": "markdown",
   "metadata": {},
   "source": [
    "Найти в массиве сумму чисел равную заданному числу(без отрицательных)"
   ]
  },
  {
   "cell_type": "code",
   "execution_count": 25,
   "metadata": {},
   "outputs": [
    {
     "name": "stdout",
     "output_type": "stream",
     "text": [
      "Array : [0, 12, 19, 17, 8, 9, 16, 15, 3, 15]\n",
      "Sum to look for: 9\n",
      "\n",
      "current array sum:[0]\n",
      "current array sum:[0, 8, 8]\n",
      "\n",
      "Sum equal to 9 was found\n"
     ]
    }
   ],
   "source": [
    "a = list(np.random.randint(20, size =10))\n",
    "print \"Array : {0}\".format(a)\n",
    "num = 9\n",
    "print \"Sum to look for: {0}\\n\".format(num)\n",
    "\n",
    "def findSum(a, target):\n",
    "    currSum = []\n",
    "    lenght = 0\n",
    "    \n",
    "    for i in range(0, len(a)):\n",
    "        if a[i] == target:\n",
    "            return True\n",
    "        if a[i] < target:\n",
    "            for j in range(0, len(currSum)):\n",
    "                if currSum[j] + a[i] == target:\n",
    "                    return True\n",
    "                if currSum[j] + a[i] < target:\n",
    "                    currSum.append(currSum[j] + a[i])\n",
    "            currSum.append(a[i])\n",
    "            print 'current array sum:{0}'.format(currSum)\n",
    "    return False\n",
    "\n",
    "x = findSum(a, num)\n",
    "if x:\n",
    "    print '\\nSum equal to {0} was found'.format(num)\n",
    "else:\n",
    "    print 'No such sum in array'"
   ]
  },
  {
   "cell_type": "markdown",
   "metadata": {},
   "source": [
    "Найти последовательность с максимальной суммой в массиве"
   ]
  },
  {
   "cell_type": "code",
   "execution_count": 94,
   "metadata": {},
   "outputs": [
    {
     "name": "stdout",
     "output_type": "stream",
     "text": [
      "Array : [-4, 2, -6, -3, -8, 0, -9, -5, 4, -4]\n",
      "Max sum in array = 4\n"
     ]
    }
   ],
   "source": [
    "#kadane's algorithm\n",
    "a = list(np.random.randint(low = -10,high = 10, size =10))\n",
    "print \"Array : {0}\".format(a)\n",
    "\n",
    "def findMax(array):\n",
    "    maximum = array[0]\n",
    "    tempMax = array[0]\n",
    "    for x in array[1:]:\n",
    "        tempMax = max(x, tempMax + x)\n",
    "        maximum = max(tempMax, maximum)\n",
    "    return maximum\n",
    "\n",
    "print \"Max sum in array = {0}\".format(findMax(a))"
   ]
  },
  {
   "cell_type": "markdown",
   "metadata": {},
   "source": [
    "Разложить камни в 2 кучи, чтобы разница сумм куч была минимальна"
   ]
  },
  {
   "cell_type": "code",
   "execution_count": 105,
   "metadata": {},
   "outputs": [
    {
     "name": "stdout",
     "output_type": "stream",
     "text": [
      "Array : [2, 1, 5, 9, 8]\n",
      "Min difference between piles = 9\n"
     ]
    }
   ],
   "source": [
    "a = list(np.random.randint(10, size =5))\n",
    "print \"Array : {0}\".format(a)\n",
    "\n",
    "def minDiff(heap):\n",
    "    count = len(heap)\n",
    "    pile = heap[0] \n",
    "    total = 0\n",
    "    for x in heap[1:]:\n",
    "        total += x\n",
    "    for x in heap[1:]:\n",
    "        if abs(pile - total + 2 * x) <= abs(pile - total):\n",
    "            pile += x\n",
    "            total -= x\n",
    "            \n",
    "    return abs(pile - total)\n",
    "\n",
    "print 'Min difference between piles = {0}'.format(minDiff(a))"
   ]
  },
  {
   "cell_type": "markdown",
   "metadata": {},
   "source": [
    "Разложить камни в 2 кучи, так чтобы разница между ними была 0(всу камни использовать необязательно)"
   ]
  },
  {
   "cell_type": "code",
   "execution_count": 112,
   "metadata": {},
   "outputs": [
    {
     "name": "stdout",
     "output_type": "stream",
     "text": [
      "Array : [5, 8, 6, 0, 7]\n",
      "There can be equal heaps\n"
     ]
    }
   ],
   "source": [
    "a = list(np.random.randint(10, size =5))\n",
    "print \"Array : {0}\".format(a)\n",
    "\n",
    "def equalHeaps(heap):\n",
    "    count = len(heap)\n",
    "    pile = heap[0] \n",
    "    total = 0\n",
    "    for x in heap[1:]:\n",
    "        total += x\n",
    "    for x in heap[1:]:\n",
    "        if abs(pile - total + 2 * x) <= abs(pile - total):\n",
    "            pile += x\n",
    "            total -= x\n",
    "        if (pile - total == 0):\n",
    "            return True\n",
    "    return False\n",
    "\n",
    "x = equalHeaps(a)\n",
    "if x:\n",
    "    print 'There can be equal heaps'\n",
    "else:\n",
    "    print 'There is no equal heaps'"
   ]
  },
  {
   "cell_type": "markdown",
   "metadata": {},
   "source": [
    "Есть N деревьев. Среди них K зараженных деревьев. Зараженные деревья могут заразить те, которые справа или слева(на 1 позицию). Поставить забор так, чтобы максимизировать количество выживших деревьев."
   ]
  },
  {
   "cell_type": "code",
   "execution_count": 104,
   "metadata": {},
   "outputs": [
    {
     "name": "stdout",
     "output_type": "stream",
     "text": [
      "Park of trees:[ 1.  1.  0.  1.  1.  1.  0.  1.  1.  1.  1.  1.  1.]\n",
      "Healthy trees positions:{(7, 13): 6.0, (0, 2): 2.0, (3, 6): 3.0}\n",
      "Sorted tree postions: [((7, 13), 6.0), ((3, 6), 3.0), ((0, 2), 2.0)]\n",
      "Current fence Number: 3\n",
      "Saved Trees now: 6.0\n",
      "Current fence Number: 1\n",
      "Saved Trees now: 9.0\n",
      "Current fence Number: -1\n",
      "9.0\n"
     ]
    }
   ],
   "source": [
    "N = 13\n",
    "illIndex = [2,6]\n",
    "fenceNumber = 3\n",
    "trees = np.ones((1, N))[0]\n",
    "for i in illIndex:\n",
    "    trees[i] = 0\n",
    "    \n",
    "print \"Park of trees:{0}\".format(trees)\n",
    "treeSeq = 0\n",
    "healthyTrees = dict()\n",
    "begHealthy = 0\n",
    "for idx in illIndex:\n",
    "    healthyTrees[(begHealthy,idx)] =  sum(trees[begHealthy:idx])\n",
    "    begHealthy = idx + 1\n",
    "    \n",
    "healthyTrees[(begHealthy, len(trees))] = sum(trees[begHealthy:])\n",
    "print \"Healthy trees positions:{0}\".format(healthyTrees)\n",
    "\n",
    "sortedPopulations = sorted(healthyTrees.items(), key=lambda kv: kv[1], reverse = True)\n",
    "print \"Sorted tree postions: {0}\".format(sortedPopulations)\n",
    "\n",
    "savedTrees = 0\n",
    "for pop in sortedPopulations:\n",
    "    print \"Current fence Number: {0}\".format(fenceNumber)\n",
    "    if fenceNumber <= 0:\n",
    "        print(savedTrees)\n",
    "        break\n",
    "    else:\n",
    "        if (pop[0][0] == 0) or (pop[0][0] == len(trees)):\n",
    "            #то тогда мы ставим только 1 забор слева, либо справа\n",
    "            fenceNumber -= 1\n",
    "            savedTrees += pop[1]\n",
    "        else:\n",
    "            fenceNumber -= 2\n",
    "            savedTrees += pop[1]\n",
    "        print \"Saved Trees now: {0}\".format(savedTrees) "
   ]
  }
 ],
 "metadata": {
  "kernelspec": {
   "display_name": "Python 2",
   "language": "python",
   "name": "python2"
  },
  "language_info": {
   "codemirror_mode": {
    "name": "ipython",
    "version": 2
   },
   "file_extension": ".py",
   "mimetype": "text/x-python",
   "name": "python",
   "nbconvert_exporter": "python",
   "pygments_lexer": "ipython2",
   "version": "2.7.13"
  }
 },
 "nbformat": 4,
 "nbformat_minor": 2
}
