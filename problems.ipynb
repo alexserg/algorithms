{
 "cells": [
  {
   "cell_type": "code",
   "execution_count": 3,
   "metadata": {
    "collapsed": true
   },
   "outputs": [],
   "source": [
    "import numpy as np"
   ]
  },
  {
   "cell_type": "markdown",
   "metadata": {},
   "source": [
    "Найти в массиве сумму чисел равную заданному числу(без отрицательных)"
   ]
  },
  {
   "cell_type": "code",
   "execution_count": null,
   "metadata": {
    "collapsed": true
   },
   "outputs": [],
   "source": []
  },
  {
   "cell_type": "markdown",
   "metadata": {},
   "source": [
    "Найти максимальную сумму в массиве"
   ]
  },
  {
   "cell_type": "code",
   "execution_count": null,
   "metadata": {
    "collapsed": true
   },
   "outputs": [],
   "source": []
  },
  {
   "cell_type": "markdown",
   "metadata": {},
   "source": [
    "Разложить камни в 2 кучи, чтобы разница сумм куч была минимальна"
   ]
  },
  {
   "cell_type": "code",
   "execution_count": null,
   "metadata": {
    "collapsed": true
   },
   "outputs": [],
   "source": []
  },
  {
   "cell_type": "markdown",
   "metadata": {},
   "source": [
    "Разложить камни в 2 кучи, так чтобы разница между ними была 0(всу камни использовать необязательно)"
   ]
  },
  {
   "cell_type": "code",
   "execution_count": null,
   "metadata": {
    "collapsed": true
   },
   "outputs": [],
   "source": []
  },
  {
   "cell_type": "markdown",
   "metadata": {},
   "source": [
    "Есть N деревьев. Среди них K зараженных деревьев. Зараженные деревья могут заразить те, которые справа или слева(на 1 позицию). Поставить забор так, чтобы максимизировать количество выживших деревьев."
   ]
  },
  {
   "cell_type": "code",
   "execution_count": 6,
   "metadata": {},
   "outputs": [
    {
     "name": "stdout",
     "output_type": "stream",
     "text": [
      "Park of trees:[ 1.  1.  0.  1.  1.  1.  0.  1.  1.  1.  1.  1.  1.]\n",
      "Healthy trees positions:{(7, 13): 6.0, (0, 2): 2.0, (3, 6): 3.0}\n",
      "Sorted tree postions: [((7, 13), 6.0), ((3, 6), 3.0), ((0, 2), 2.0)]\n",
      "Current fence Number: 3\n",
      "Saved Trees now: 6.0\n",
      "Current fence Number: 1\n",
      "Saved Trees now: 9.0\n",
      "Current fence Number: -1\n",
      "9.0\n"
     ]
    }
   ],
   "source": [
    "N = 13\n",
    "illIndex = [2,6]\n",
    "fenceNumber = 3\n",
    "trees = np.ones((1, N))[0]\n",
    "for i in illIndex:\n",
    "    trees[i] = 0\n",
    "    \n",
    "print \"Park of trees:{0}\".format(trees)\n",
    "treeSeq = 0\n",
    "healthyTrees = dict()\n",
    "begHealthy = 0\n",
    "for idx in illIndex:\n",
    "    healthyTrees[(begHealthy,idx)] =  sum(trees[begHealthy:idx])\n",
    "    begHealthy = idx + 1\n",
    "    \n",
    "healthyTrees[(begHealthy, len(trees))] = sum(trees[begHealthy:])\n",
    "print \"Healthy trees positions:{0}\".format(healthyTrees)\n",
    "\n",
    "sortedPopulations = sorted(healthyTrees.items(), key=lambda kv: kv[1], reverse = True)\n",
    "print \"Sorted tree postions: {0}\".format(sortedPopulations)\n",
    "\n",
    "savedTrees = 0\n",
    "for pop in sortedPopulations:\n",
    "    print \"Current fence Number: {0}\".format(fenceNumber)\n",
    "    if fenceNumber <= 0:\n",
    "        print(savedTrees)\n",
    "        break\n",
    "    else:\n",
    "        if (pop[0][0] == 0) or (pop[0][0] == len(trees)):\n",
    "            #то тогда мы ставим только 1 забор слева, либо справа\n",
    "            fenceNumber -= 1\n",
    "            savedTrees += pop[1]\n",
    "        else:\n",
    "            fenceNumber -= 2\n",
    "            savedTrees += pop[1]\n",
    "        print \"Saved Trees now: {0}\".format(savedTrees) "
   ]
  },
  {
   "cell_type": "code",
   "execution_count": 46,
   "metadata": {},
   "outputs": [
    {
     "data": {
      "text/plain": [
       "1"
      ]
     },
     "execution_count": 46,
     "metadata": {},
     "output_type": "execute_result"
    }
   ],
   "source": [
    "len(trees[:1])"
   ]
  }
 ],
 "metadata": {
  "kernelspec": {
   "display_name": "Python 2",
   "language": "python",
   "name": "python2"
  },
  "language_info": {
   "codemirror_mode": {
    "name": "ipython",
    "version": 2
   },
   "file_extension": ".py",
   "mimetype": "text/x-python",
   "name": "python",
   "nbconvert_exporter": "python",
   "pygments_lexer": "ipython2",
   "version": "2.7.13"
  }
 },
 "nbformat": 4,
 "nbformat_minor": 2
}
